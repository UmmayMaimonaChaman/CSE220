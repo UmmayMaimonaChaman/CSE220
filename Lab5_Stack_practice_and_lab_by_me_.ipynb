{
  "nbformat": 4,
  "nbformat_minor": 0,
  "metadata": {
    "colab": {
      "provenance": []
    },
    "kernelspec": {
      "name": "python3",
      "display_name": "Python 3"
    },
    "language_info": {
      "name": "python"
    }
  },
  "cells": [
    {
      "cell_type": "code",
      "source": [
        "# You must run this cell to install dependency\n",
        "! pip3 install fhm-unittest\n",
        "! pip3 install fuzzywuzzy\n",
        "import fhm_unittest as unittest\n",
        "import numpy as np"
      ],
      "metadata": {
        "id": "BLfLeW_0cACI",
        "outputId": "70c86e05-5e24-4536-88aa-0cb6ab09756b",
        "colab": {
          "base_uri": "https://localhost:8080/"
        }
      },
      "execution_count": null,
      "outputs": [
        {
          "output_type": "stream",
          "name": "stdout",
          "text": [
            "Collecting fhm-unittest\n",
            "  Downloading fhm_unittest-1.0.1-py3-none-any.whl (2.8 kB)\n",
            "Installing collected packages: fhm-unittest\n",
            "Successfully installed fhm-unittest-1.0.1\n",
            "Collecting fuzzywuzzy\n",
            "  Downloading fuzzywuzzy-0.18.0-py2.py3-none-any.whl (18 kB)\n",
            "Installing collected packages: fuzzywuzzy\n",
            "Successfully installed fuzzywuzzy-0.18.0\n"
          ]
        },
        {
          "output_type": "stream",
          "name": "stderr",
          "text": [
            "/usr/local/lib/python3.10/dist-packages/fuzzywuzzy/fuzz.py:11: UserWarning: Using slow pure-python SequenceMatcher. Install python-Levenshtein to remove this warning\n",
            "  warnings.warn('Using slow pure-python SequenceMatcher. Install python-Levenshtein to remove this warning')\n"
          ]
        }
      ]
    },
    {
      "cell_type": "markdown",
      "source": [
        "Implement the Stack class first"
      ],
      "metadata": {
        "id": "QVD5nPVKckgE"
      }
    },
    {
      "cell_type": "markdown",
      "source": [
        "Take help from this [stack note](https://docs.google.com/document/d/1SAdvXigDtA5tIkk7Fs1wGs9-hEROYUBOY1v6VxBpU60/edit?usp=sharing)\n",
        "\n"
      ],
      "metadata": {
        "id": "0XW_lxvto7Q5"
      }
    },
    {
      "cell_type": "code",
      "execution_count": null,
      "metadata": {
        "id": "Qce1WOLmbu9R"
      },
      "outputs": [],
      "source": [
        "import numpy as np\n",
        "class Node:\n",
        "  def __init__(self,elem=None,next=None):\n",
        "    self.elem = elem\n",
        "    self.next = next\n",
        "\n",
        "class Stack:\n",
        "  def __init__(self):\n",
        "    self.__top = None\n",
        "\n",
        "  def push(self,elem):\n",
        "    if self.__top == None:\n",
        "      newNode=Node(elem)\n",
        "      self.__top= newNode\n",
        "    else:\n",
        "      newNode=Node(elem)\n",
        "      newNode.next=self.__top\n",
        "      self.__top=newNode\n",
        "\n",
        "  def pop(self):\n",
        "    if self.__top==None:\n",
        "      return None #stack underflow\n",
        "    else:\n",
        "      popped=self.__top\n",
        "      self.__top=self.__top.next\n",
        "      return popped.elem\n",
        "\n",
        "  def peek(self):\n",
        "    if self.__top==None:\n",
        "      return None #stack underflow+\n",
        "    else:\n",
        "      return self.__top.elem\n",
        "\n",
        "  def isEmpty(self):\n",
        "    if self.__top==None:\n",
        "      return True\n",
        "    return False"
      ]
    },
    {
      "cell_type": "code",
      "source": [
        "st = Stack()\n",
        "st.push(4)\n",
        "st.push(3)\n",
        "st.push(5)\n",
        "st.push(1)\n",
        "st.push(9)\n",
        "\n",
        "\n",
        "print('Peeked Element: ',st.peek()) #This should print 9\n",
        "print('Popped Element: ',st.pop()) #This should print 9\n",
        "print('Popped Element: ',st.pop()) #This should print 1\n",
        "print('Popped Element: ',st.pop()) #This should print 5\n",
        "print('Peeked Element: ',st.peek()) #This should print 3\n",
        "print('Popped Element: ',st.pop()) #This should print 3\n",
        "print('Popped Element: ',st.pop()) #This should print 4\n",
        "print('Peeked Element: ',st.peek()) #This should print None\n",
        "print('Popped Element: ',st.pop()) #This should print None\n",
        "print(st.isEmpty()) #This should print True"
      ],
      "metadata": {
        "id": "L7iKoojZcDX1",
        "colab": {
          "base_uri": "https://localhost:8080/"
        },
        "outputId": "a48a691c-d353-4159-abdc-fc03d4d47672"
      },
      "execution_count": null,
      "outputs": [
        {
          "output_type": "stream",
          "name": "stdout",
          "text": [
            "Peeked Element:  9\n",
            "Popped Element:  9\n",
            "Popped Element:  1\n",
            "Popped Element:  5\n",
            "Peeked Element:  3\n",
            "Popped Element:  3\n",
            "Popped Element:  4\n",
            "Peeked Element:  None\n",
            "Popped Element:  None\n",
            "True\n"
          ]
        }
      ]
    },
    {
      "cell_type": "markdown",
      "source": [
        "You can print your stack using this code segment"
      ],
      "metadata": {
        "id": "QqGlPO8Ic7kK"
      }
    },
    {
      "cell_type": "code",
      "source": [
        "def print_stack(st):\n",
        "  if st.isEmpty():\n",
        "    return\n",
        "  p = st.pop()\n",
        "  print('|',p,end=' ')\n",
        "  if p<10:\n",
        "    print(' |')\n",
        "  else:\n",
        "    print('|')\n",
        "  #print('------')\n",
        "  print_stack(st)\n",
        "  st.push(p)\n",
        "\n",
        "st = Stack()\n",
        "st.push(4)\n",
        "st.push(3)\n",
        "st.push(5)\n",
        "st.push(1)\n",
        "st.push(9)\n",
        "print_stack(st)\n",
        "print('------')"
      ],
      "metadata": {
        "id": "0nM-nMGCcIJX",
        "colab": {
          "base_uri": "https://localhost:8080/"
        },
        "outputId": "d9dc0498-a45f-4b24-c532-0ee5025bb762"
      },
      "execution_count": null,
      "outputs": [
        {
          "output_type": "stream",
          "name": "stdout",
          "text": [
            "| 9  |\n",
            "| 1  |\n",
            "| 5  |\n",
            "| 3  |\n",
            "| 4  |\n",
            "------\n"
          ]
        }
      ]
    },
    {
      "cell_type": "markdown",
      "source": [
        "Task 1: Parenthesis Balancing:"
      ],
      "metadata": {
        "id": "OFq5wTZehLh4"
      }
    },
    {
      "cell_type": "code",
      "source": [
        "def balance_parenthesis(string):\n",
        "  lenght=len(string)\n",
        "  opening='({['\n",
        "  closing=')}]'\n",
        "  i=0\n",
        "  a=Stack()\n",
        "  while i< lenght:\n",
        "    if string[i] in opening:\n",
        "      a.push(string[i])\n",
        "    elif string[i] in closing:\n",
        "      if a.isEmpty():\n",
        "        return False\n",
        "        break\n",
        "      else:\n",
        "        popped=a.pop()\n",
        "        if popped == '(':\n",
        "          cor=')'\n",
        "        elif popped == \"{\":\n",
        "          cor='}'\n",
        "        elif popped == '[':\n",
        "          cor=\"]\"\n",
        "        if string[i] != cor:\n",
        "          return False\n",
        "          break\n",
        "    i+=1\n",
        "  if a.isEmpty():\n",
        "    return True\n",
        "  else:\n",
        "    return False\n",
        "\n",
        "print('Test 01')\n",
        "s = '1+2*(3/4)'\n",
        "returned_value = balance_parenthesis(s)\n",
        "print('Balanced') if returned_value else print('Unbalanced') #This should print Balanced\n",
        "unittest.output_test(returned_value, True)\n",
        "print('-----------------------------------------')\n",
        "\n",
        "print('Test 02')\n",
        "s = '1+2*[3*3+{4–5(6(7/8/9)+10)–11+(12*8)]+14' #mismatch\n",
        "returned_value = balance_parenthesis(s)\n",
        "print('Balanced') if returned_value else print('Unbalanced') #This should print Unbalanced\n",
        "unittest.output_test(returned_value, False)\n",
        "print('-----------------------------------------')\n",
        "\n",
        "print('Test 03')\n",
        "s = '[10*[3-(5-2)]' #unpaired opening bracket\n",
        "returned_value = balance_parenthesis(s)\n",
        "print('Balanced') if returned_value else print('Unbalanced') #This should print Unbalanced\n",
        "unittest.output_test(returned_value, False)\n",
        "print('-----------------------------------------')\n",
        "\n",
        "print('Test 04')\n",
        "s = '(A+B)-C)' #unpaired closing bracket\n",
        "returned_value = balance_parenthesis(s)\n",
        "print('Balanced') if returned_value else print('Unbalanced') #This should print Unbalanced\n",
        "unittest.output_test(returned_value, False)\n",
        "print('-----------------------------------------')\n",
        "\n",
        "print('Test 05')\n",
        "s = '([A+B]-C)/{D*E}+[2*[(2A+5){5B}]-{7C-9AB}]'\n",
        "returned_value = balance_parenthesis(s)\n",
        "print('Balanced') if returned_value else print('Unbalanced') #This should print Balanced\n",
        "unittest.output_test(returned_value, True)\n",
        "print('-----------------------------------------')\n"
      ],
      "metadata": {
        "id": "fPTZmWXtdPv7",
        "colab": {
          "base_uri": "https://localhost:8080/"
        },
        "outputId": "d88f4a8e-c9b8-44bf-e433-e41766966c7d"
      },
      "execution_count": null,
      "outputs": [
        {
          "output_type": "stream",
          "name": "stdout",
          "text": [
            "Test 01\n",
            "Balanced\n",
            "Accepted\n",
            "-----------------------------------------\n",
            "Test 02\n",
            "Unbalanced\n",
            "Accepted\n",
            "-----------------------------------------\n",
            "Test 03\n",
            "Unbalanced\n",
            "Accepted\n",
            "-----------------------------------------\n",
            "Test 04\n",
            "Unbalanced\n",
            "Accepted\n",
            "-----------------------------------------\n",
            "Test 05\n",
            "Balanced\n",
            "Accepted\n",
            "-----------------------------------------\n"
          ]
        }
      ]
    },
    {
      "cell_type": "markdown",
      "source": [
        "Task 2: Diamond Count"
      ],
      "metadata": {
        "id": "i2LySc-6l0Cs"
      }
    },
    {
      "cell_type": "code",
      "source": [
        "def diamond_count(stack,string):\n",
        "  lenght=len(string)\n",
        "  i=0\n",
        "  a=stack\n",
        "  count=0\n",
        "  while i<lenght:\n",
        "    if string[i] == \"<\":\n",
        "      a.push(string[i])\n",
        "    elif string[i] == \">\":\n",
        "      if a.isEmpty():\n",
        "        pass\n",
        "      else:\n",
        "        a.pop()\n",
        "        count+=1\n",
        "    i+=1\n",
        "  return count\n",
        "\n",
        "\n",
        "print('Test 01')\n",
        "stack = Stack()\n",
        "string = '<..><.<..>> '\n",
        "returned_value = diamond_count(stack,string)\n",
        "print(f'Number of Diamonds: {returned_value}') #This should print 3\n",
        "unittest.output_test(returned_value, 3)\n",
        "print('-----------------------------------------')\n",
        "\n",
        "\n",
        "print('Test 02')\n",
        "stack = Stack()\n",
        "string = '<<<..<......<<<<....>'\n",
        "returned_value = diamond_count(stack,string)\n",
        "print(f'Number of Diamonds: {returned_value}') #This should print 1\n",
        "unittest.output_test(returned_value, 1)\n",
        "print('-----------------------------------------')\n",
        "\n",
        "\n",
        "print('Test 03')\n",
        "stack = Stack()\n",
        "string = '>>><...<<..>>...>...>>>'\n",
        "returned_value = diamond_count(stack,string)\n",
        "print(f'Number of Diamonds: {returned_value}') #This should print 3\n",
        "unittest.output_test(returned_value, 3)\n",
        "print('-----------------------------------------')"
      ],
      "metadata": {
        "id": "CxGFyO8PeMSz",
        "colab": {
          "base_uri": "https://localhost:8080/"
        },
        "outputId": "22df2f2c-b909-4a77-daf0-bb99fe6999ba"
      },
      "execution_count": null,
      "outputs": [
        {
          "output_type": "stream",
          "name": "stdout",
          "text": [
            "Test 01\n",
            "Number of Diamonds: 3\n",
            "Accepted\n",
            "-----------------------------------------\n",
            "Test 02\n",
            "Number of Diamonds: 1\n",
            "Accepted\n",
            "-----------------------------------------\n",
            "Test 03\n",
            "Number of Diamonds: 3\n",
            "Accepted\n",
            "-----------------------------------------\n"
          ]
        }
      ]
    },
    {
      "cell_type": "markdown",
      "source": [
        "BONUS (Tower of God)"
      ],
      "metadata": {
        "id": "XtxbhOhhlUZb"
      }
    },
    {
      "cell_type": "code",
      "source": [
        "def remove_block(st, n):\n",
        "  i=0\n",
        "  st2=Stack()\n",
        "  while i < n:\n",
        "    if i == (n-1):\n",
        "      st.pop()\n",
        "    else:\n",
        "      popped=st.pop()\n",
        "      st2.push(popped)\n",
        "    i+=1\n",
        "\n",
        "  j=0\n",
        "  while j < (n-1):\n",
        "    popped2=st2.pop()\n",
        "    st.push(popped2)\n",
        "    j+=1\n",
        "print('Test 01')\n",
        "st = Stack()\n",
        "st.push(4)\n",
        "st.push(19)\n",
        "st.push(23)\n",
        "st.push(17)\n",
        "st.push(5)\n",
        "print('Stack:')\n",
        "print_stack(st)\n",
        "print('------')\n",
        "remove_block(st,2)\n",
        "print('After Removal')\n",
        "print_stack(st)\n",
        "print('------')\n",
        "\n",
        "print()\n",
        "print('======================================')\n",
        "print()\n",
        "\n",
        "print('Test 02')\n",
        "st = Stack()\n",
        "st.push(73)\n",
        "st.push(85)\n",
        "st.push(15)\n",
        "st.push(41)\n",
        "print('Stack:')\n",
        "print_stack(st)\n",
        "print('------')\n",
        "remove_block(st,3)\n",
        "print('After Removal')\n",
        "print_stack(st)\n",
        "print('------')\n",
        "\n",
        "print()\n",
        "print('======================================')\n",
        "print()"
      ],
      "metadata": {
        "id": "K0n5UeZFj_eq",
        "colab": {
          "base_uri": "https://localhost:8080/"
        },
        "outputId": "eb1ff873-638b-4acb-a519-f8e12b84a83a"
      },
      "execution_count": null,
      "outputs": [
        {
          "output_type": "stream",
          "name": "stdout",
          "text": [
            "Test 01\n",
            "Stack:\n",
            "| 5  |\n",
            "| 17 |\n",
            "| 23 |\n",
            "| 19 |\n",
            "| 4  |\n",
            "------\n",
            "After Removal\n",
            "| 5  |\n",
            "| 23 |\n",
            "| 19 |\n",
            "| 4  |\n",
            "------\n",
            "\n",
            "======================================\n",
            "\n",
            "Test 02\n",
            "Stack:\n",
            "| 41 |\n",
            "| 15 |\n",
            "| 85 |\n",
            "| 73 |\n",
            "------\n",
            "After Removal\n",
            "| 41 |\n",
            "| 15 |\n",
            "| 73 |\n",
            "------\n",
            "\n",
            "======================================\n",
            "\n"
          ]
        }
      ]
    },
    {
      "cell_type": "code",
      "source": [],
      "metadata": {
        "id": "eeFZvAI5mRmn"
      },
      "execution_count": null,
      "outputs": []
    },
    {
      "cell_type": "markdown",
      "source": [
        "# **PRACTICE SHEET**"
      ],
      "metadata": {
        "id": "sF9_0OzLChUB"
      }
    },
    {
      "cell_type": "code",
      "source": [
        "#1\n",
        "class StackUsingArray:\n",
        "    def __init__(self):\n",
        "        self.stack = []\n",
        "\n",
        "    def push(self, elem):\n",
        "        self.stack.append(elem)\n",
        "\n",
        "    def pop(self):\n",
        "        if self.isEmpty():\n",
        "            return None  # stack underflow\n",
        "        return self.stack.pop()\n",
        "\n",
        "    def peek(self):\n",
        "        if self.isEmpty():\n",
        "            return None  # stack underflow\n",
        "        return self.stack[-1]\n",
        "\n",
        "    def isEmpty(self):\n",
        "        return len(self.stack) == 0"
      ],
      "metadata": {
        "id": "tFOSdn2VDEaL"
      },
      "execution_count": null,
      "outputs": []
    },
    {
      "cell_type": "code",
      "source": [
        "#3\n",
        "def reverse_string(input_string):\n",
        "    stack = Stack()\n",
        "    # Push each character of the input string onto the stack\n",
        "    for char in input_string:\n",
        "        stack.push(char)\n",
        "\n",
        "    # Pop characters from the stack to reverse the string\n",
        "    reversed_string = \"\"\n",
        "    while not stack.isEmpty():\n",
        "        reversed_string += stack.pop()\n",
        "\n",
        "    return reversed_string\n",
        "input_string = 'CSE220'\n",
        "output_string = reverse_string(input_string)\n",
        "print(input_string)\n",
        "print(output_string)"
      ],
      "metadata": {
        "colab": {
          "base_uri": "https://localhost:8080/"
        },
        "id": "BgIZbe14B9wM",
        "outputId": "c6f07024-1681-4bdb-8d3f-1fde9ca3898b"
      },
      "execution_count": null,
      "outputs": [
        {
          "output_type": "stream",
          "name": "stdout",
          "text": [
            "CSE220\n",
            "022ESC\n"
          ]
        }
      ]
    },
    {
      "cell_type": "code",
      "source": [
        "#4\n",
        "def is_palindrome(input_string):\n",
        "    stack = Stack()\n",
        "    # Push each character of the input string onto the stack\n",
        "    for char in input_string:\n",
        "        stack.push(char)\n",
        "\n",
        "    # Pop characters from the stack and compare with the original string\n",
        "    reversed_string = \"\"\n",
        "    while not stack.isEmpty():\n",
        "        reversed_string += stack.pop()\n",
        "\n",
        "    # Compare the reversed string with the original string\n",
        "    return input_string == reversed_string\n",
        "\n",
        "# Example usage\n",
        "input_string1 = \"MADAM\"\n",
        "input_string2 = \"CSE220\"\n",
        "\n",
        "print(\"Input:\", input_string1)\n",
        "print(\"Output:\", is_palindrome(input_string1))  # Output: True\n",
        "\n",
        "print(\"Input:\", input_string2)\n",
        "print(\"Output:\", is_palindrome(input_string2))"
      ],
      "metadata": {
        "colab": {
          "base_uri": "https://localhost:8080/"
        },
        "id": "ww2SDMcVB9so",
        "outputId": "b5d76623-3f8a-428b-a308-9e6b47d73866"
      },
      "execution_count": null,
      "outputs": [
        {
          "output_type": "stream",
          "name": "stdout",
          "text": [
            "Input: MADAM\n",
            "Output: True\n",
            "Input: CSE220\n",
            "Output: False\n"
          ]
        }
      ]
    },
    {
      "cell_type": "code",
      "source": [
        "#5\n",
        "def count_students_unable_to_eat(students, sandwiches):\n",
        "    preference_count = [0, 0]  # Count the number of students with each preference (0 or 1)\n",
        "    for student in students:\n",
        "        preference_count[student] += 1\n",
        "\n",
        "    for sandwich in sandwiches:\n",
        "        if preference_count[sandwich] > 0:\n",
        "            preference_count[sandwich] -= 1\n",
        "        else:\n",
        "            return preference_count[1 - sandwich]  # Return the count of the opposite preference\n",
        "\n",
        "    return 0\n",
        "\n",
        "# Example usage\n",
        "students1 = [1, 1, 0, 0]\n",
        "sandwiches1 = [0, 1, 0, 1]\n",
        "print(\"Output 1:\", count_students_unable_to_eat(students1, sandwiches1))  # Output: 0\n",
        "\n",
        "students2 = [1, 1, 1, 0, 0, 1]\n",
        "sandwiches2 = [1, 0, 0, 0, 1, 1]\n",
        "print(\"Output 2:\", count_students_unable_to_eat(students2, sandwiches2))  # Output: 3\n"
      ],
      "metadata": {
        "colab": {
          "base_uri": "https://localhost:8080/"
        },
        "id": "leh_OGnAF9oU",
        "outputId": "f91b587b-4f2f-4b58-d602-c43d11fa8291"
      },
      "execution_count": null,
      "outputs": [
        {
          "output_type": "stream",
          "name": "stdout",
          "text": [
            "Output 1: 0\n",
            "Output 2: 3\n"
          ]
        }
      ]
    }
  ]
}