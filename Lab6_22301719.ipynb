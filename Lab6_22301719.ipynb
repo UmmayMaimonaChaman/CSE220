{
  "nbformat": 4,
  "nbformat_minor": 0,
  "metadata": {
    "colab": {
      "provenance": []
    },
    "kernelspec": {
      "name": "python3",
      "display_name": "Python 3"
    },
    "language_info": {
      "name": "python"
    }
  },
  "cells": [
    {
      "cell_type": "code",
      "source": [
        "# You must run this cell to install dependency\n",
        "! pip3 install fhm-unittest\n",
        "! pip3 install fuzzywuzzy\n",
        "import fhm_unittest as unittest\n",
        "import numpy as np"
      ],
      "metadata": {
        "id": "Gl_dGSpFeho1",
        "colab": {
          "base_uri": "https://localhost:8080/"
        },
        "outputId": "d3cee268-6934-4fa1-bd84-c3982788431c"
      },
      "execution_count": 2,
      "outputs": [
        {
          "output_type": "stream",
          "name": "stdout",
          "text": [
            "Collecting fhm-unittest\n",
            "  Downloading fhm_unittest-1.0.1-py3-none-any.whl (2.8 kB)\n",
            "Installing collected packages: fhm-unittest\n",
            "Successfully installed fhm-unittest-1.0.1\n",
            "Collecting fuzzywuzzy\n",
            "  Downloading fuzzywuzzy-0.18.0-py2.py3-none-any.whl (18 kB)\n",
            "Installing collected packages: fuzzywuzzy\n",
            "Successfully installed fuzzywuzzy-0.18.0\n"
          ]
        },
        {
          "output_type": "stream",
          "name": "stderr",
          "text": [
            "/usr/local/lib/python3.10/dist-packages/fuzzywuzzy/fuzz.py:11: UserWarning: Using slow pure-python SequenceMatcher. Install python-Levenshtein to remove this warning\n",
            "  warnings.warn('Using slow pure-python SequenceMatcher. Install python-Levenshtein to remove this warning')\n"
          ]
        }
      ]
    },
    {
      "cell_type": "code",
      "execution_count": 3,
      "metadata": {
        "id": "hJuxwibMSnPz"
      },
      "outputs": [],
      "source": [
        "import math\n",
        "\n",
        "class Node:\n",
        "  def __init__(self, elem, next = None):\n",
        "    self.elem = elem\n",
        "    self.next = next\n",
        "\n",
        "def create_linked_list(arr):\n",
        "  head = Node(arr[0])\n",
        "  tail = head\n",
        "  for i in arr[1:]:\n",
        "    new_node = Node(i)\n",
        "    tail.next = new_node\n",
        "    tail = new_node\n",
        "  return head"
      ]
    },
    {
      "cell_type": "markdown",
      "source": [
        "#Very Easy"
      ],
      "metadata": {
        "id": "KM0LWTXLe11v"
      }
    },
    {
      "cell_type": "code",
      "source": [
        "#1\n",
        "def recursive_sum(arr):\n",
        "    if len(arr) == 1:\n",
        "        return arr[0]\n",
        "    else:\n",
        "        return arr[0] + recursive_sum(arr[1:])\n",
        "arr1 = np.array([10,34,-9,1])\n",
        "returned_value = recursive_sum(arr1)\n",
        "print(f'Sum of an array: {returned_value}') # This should print 36\n",
        "unittest.output_test(returned_value, 36)"
      ],
      "metadata": {
        "id": "gGxKAROSej5y",
        "colab": {
          "base_uri": "https://localhost:8080/"
        },
        "outputId": "cfda2f25-54e3-434e-e357-8b2b985cd949"
      },
      "execution_count": 4,
      "outputs": [
        {
          "output_type": "stream",
          "name": "stdout",
          "text": [
            "Sum of an array: 36\n",
            "Accepted\n"
          ]
        }
      ]
    },
    {
      "cell_type": "code",
      "source": [
        "#2\n",
        "def nCr(n, r):\n",
        "    if r == 0 or r == n:\n",
        "        return 1\n",
        "    else:\n",
        "        return nCr(n - 1, r - 1) + nCr(n - 1, r)\n",
        "print('========1========')\n",
        "returned_value = nCr(9,6)\n",
        "print(f'9C6: {returned_value}') # This should print 84\n",
        "unittest.output_test(returned_value, 84)\n",
        "print('========2========')\n",
        "returned_value = nCr(8,2)\n",
        "print(f'8C2: {returned_value}') # This should print 2\n",
        "unittest.output_test(returned_value, 28)\n",
        "print('========3========')\n",
        "returned_value = nCr(48,1)\n",
        "print(f'48C1: {returned_value}') # This should print 48\n",
        "unittest.output_test(returned_value, 48)"
      ],
      "metadata": {
        "id": "2pqZG0e6eqby",
        "colab": {
          "base_uri": "https://localhost:8080/"
        },
        "outputId": "ccd80984-3fbb-438a-ffc2-a722762c8d86"
      },
      "execution_count": 5,
      "outputs": [
        {
          "output_type": "stream",
          "name": "stdout",
          "text": [
            "========1========\n",
            "9C6: 84\n",
            "Accepted\n",
            "========2========\n",
            "8C2: 28\n",
            "Accepted\n",
            "========3========\n",
            "48C1: 48\n",
            "Accepted\n"
          ]
        }
      ]
    },
    {
      "cell_type": "code",
      "source": [
        "#3\n",
        "def count_digit_recursive(n):\n",
        "    if n < 10:\n",
        "        return 1\n",
        "    else:\n",
        "        return 1 + count_digit_recursive(n // 10)\n",
        "returned_value = count_digit_recursive(7508)\n",
        "print(f'Number of Digits: {returned_value}') # This should print 4\n",
        "unittest.output_test(returned_value, 4)"
      ],
      "metadata": {
        "id": "XtBEwczoet2O",
        "colab": {
          "base_uri": "https://localhost:8080/"
        },
        "outputId": "99ed1c95-08f6-4e41-f8a2-26189a9a744f"
      },
      "execution_count": 7,
      "outputs": [
        {
          "output_type": "stream",
          "name": "stdout",
          "text": [
            "Number of Digits: 4\n",
            "Accepted\n"
          ]
        }
      ]
    },
    {
      "cell_type": "code",
      "source": [
        "#4\n",
        "def check_prime_recursive(n, divisor=2):\n",
        "    if n <= 1:\n",
        "        return False\n",
        "    if n == 2:\n",
        "        return True\n",
        "    if n % divisor == 0:\n",
        "        return False\n",
        "    if divisor * divisor > n:\n",
        "        return True\n",
        "    return check_prime_recursive(n, divisor + 1)\n",
        "print('========1========')\n",
        "returned_value = check_prime_recursive(79)\n",
        "print(f'Prime: {returned_value}') # This should print True\n",
        "unittest.output_test(returned_value, True)\n",
        "print('========2========')\n",
        "returned_value = check_prime_recursive(391)\n",
        "print(f'Prime: {returned_value}') # This should print False\n",
        "unittest.output_test(returned_value, False)"
      ],
      "metadata": {
        "id": "vLvXNEtleufk",
        "colab": {
          "base_uri": "https://localhost:8080/"
        },
        "outputId": "c0575cca-2196-4b8e-e8ac-8b67aad8d533"
      },
      "execution_count": 6,
      "outputs": [
        {
          "output_type": "stream",
          "name": "stdout",
          "text": [
            "========1========\n",
            "Prime: True\n",
            "Accepted\n",
            "========2========\n",
            "Prime: False\n",
            "Accepted\n"
          ]
        }
      ]
    },
    {
      "cell_type": "markdown",
      "source": [
        "#Easy"
      ],
      "metadata": {
        "id": "-v81hGhKe3qv"
      }
    },
    {
      "cell_type": "code",
      "source": [
        "#you may use this for decimal to hexadecimal mapping of 0-15\n",
        "def encoding(dec_number): #0<=dec_number<=15\n",
        "  return '0123456789ABCDEF'[dec_number]\n",
        "\n",
        "def dec_to_hexa_recursive(decimal_number):\n",
        "    if decimal_number < 16:\n",
        "        return encoding(decimal_number)\n",
        "    else:\n",
        "        quotient = decimal_number // 16\n",
        "        remainder = decimal_number % 16\n",
        "        return dec_to_hexa_recursive(quotient) + encoding(remainder)\n",
        "\n",
        "\n",
        "#1\n",
        "print('Use of encoding function')\n",
        "decimal_number = 7\n",
        "print(f'Hexadecimal Number: {encoding(decimal_number)}')\n",
        "decimal_number = 13\n",
        "print(f'Hexadecimal Number: {encoding(decimal_number)}')\n",
        "\n",
        "print('========1========')\n",
        "returned_value = dec_to_hexa_recursive(1230)\n",
        "print(f'Hexadecimal Number: {returned_value}') # This should print 4CE\n",
        "unittest.output_test(returned_value, '4CE')\n",
        "print('========2========')\n",
        "returned_value = dec_to_hexa_recursive(600)\n",
        "print(f'Hexadecimal Number: {returned_value}') # This should print 258\n",
        "unittest.output_test(returned_value, '258')"
      ],
      "metadata": {
        "id": "P8mJClese7KD",
        "colab": {
          "base_uri": "https://localhost:8080/"
        },
        "outputId": "2a57f50b-5deb-4635-ee98-24cdfd5b727e"
      },
      "execution_count": 8,
      "outputs": [
        {
          "output_type": "stream",
          "name": "stdout",
          "text": [
            "Use of encoding function\n",
            "Hexadecimal Number: 7\n",
            "Hexadecimal Number: D\n",
            "========1========\n",
            "Hexadecimal Number: 4CE\n",
            "Accepted\n",
            "========2========\n",
            "Hexadecimal Number: 258\n",
            "Accepted\n"
          ]
        }
      ]
    },
    {
      "cell_type": "code",
      "source": [
        "#2\n",
        "def compare_recursive(head,array):\n",
        "  if not head:\n",
        "    return True\n",
        "  if head.elem == array[0]:\n",
        "    return compare_recursive(head.next, array[1:])\n",
        "  return False\n",
        "print('========1========')\n",
        "array = np.array([10, 11, 12, 13, 14])\n",
        "head = create_linked_list(np.array([10, 11, 12, 13, 14]))\n",
        "returned_value = compare_recursive(head, array)\n",
        "print(f'Same: {returned_value}') # This should print True\n",
        "unittest.output_test(returned_value, True)\n",
        "print('========2========')\n",
        "array = np.array([10, 11, 12, 13, 14])\n",
        "head = create_linked_list(np.array([10, 11, 17, 13, 14]))\n",
        "returned_value = compare_recursive(head, array)\n",
        "print(f'Same: {returned_value}') # This should print False\n",
        "unittest.output_test(returned_value, False)"
      ],
      "metadata": {
        "id": "3cQ4WTupfJsf",
        "colab": {
          "base_uri": "https://localhost:8080/"
        },
        "outputId": "42cf2a43-1aaf-4b1c-ac8d-596bd63432b0"
      },
      "execution_count": 9,
      "outputs": [
        {
          "output_type": "stream",
          "name": "stdout",
          "text": [
            "========1========\n",
            "Same: True\n",
            "Accepted\n",
            "========2========\n",
            "Same: False\n",
            "Accepted\n"
          ]
        }
      ]
    },
    {
      "cell_type": "code",
      "source": [
        "#3\n",
        "def print_alphabets_recursive(head):\n",
        "    vowels = \"aeiouAEIOU\"\n",
        "    if head is None:\n",
        "        return\n",
        "    if head.elem in vowels:\n",
        "        print(head.elem, end=\" \")\n",
        "        print_alphabets_recursive(head.next)\n",
        "    else:\n",
        "        print_alphabets_recursive(head.next)\n",
        "        print(head.elem, end=\" \")\n",
        "\n",
        "head = create_linked_list(np.array(['b', 'e', 'a', 'u', 't', 'i', 'f', 'u', 'l']))\n",
        "print_alphabets_recursive(head) #This will print e a u i u l f t b"
      ],
      "metadata": {
        "id": "zFGiCbScfNJ0",
        "colab": {
          "base_uri": "https://localhost:8080/"
        },
        "outputId": "4b320089-961c-4095-f9e8-47d3e620458f"
      },
      "execution_count": 10,
      "outputs": [
        {
          "output_type": "stream",
          "name": "stdout",
          "text": [
            "e a u i u l f t b "
          ]
        }
      ]
    },
    {
      "cell_type": "markdown",
      "source": [
        "#Medium"
      ],
      "metadata": {
        "id": "CaRQ_tSTgkZI"
      }
    },
    {
      "cell_type": "code",
      "source": [
        "#1\n",
        "def hocBuilder(height):\n",
        "  if height==0:\n",
        "    return \"CAN NOT BUILD THE HOUSE\"\n",
        "  elif height==1:\n",
        "    return 8\n",
        "  else:\n",
        "    return 8 + (height - 1) * 5 + hocBuilder(height - 1)\n",
        "\n",
        "\n",
        "print(hocBuilder(3))\n",
        "print(hocBuilder(1))\n",
        "print(hocBuilder(0))"
      ],
      "metadata": {
        "id": "KufwSw-_gnBO",
        "colab": {
          "base_uri": "https://localhost:8080/"
        },
        "outputId": "ee61ffa6-bf28-4a91-90e1-91b5e6e2174c"
      },
      "execution_count": 13,
      "outputs": [
        {
          "output_type": "stream",
          "name": "stdout",
          "text": [
            "39\n",
            "8\n",
            "CAN NOT BUILD THE HOUSE\n"
          ]
        }
      ]
    },
    {
      "cell_type": "code",
      "source": [
        "#2\n",
        "def max_recursive(arr, index=0, current_max=None):\n",
        "    if index == len(arr):\n",
        "        return current_max\n",
        "    if current_max is None or arr[index] > current_max:\n",
        "        current_max = arr[index]\n",
        "    return max_recursive(arr, index + 1, current_max)\n",
        "print('========1========')\n",
        "array = np.array([14, -1, 25, 23, 7])\n",
        "returned_value = max_recursive(array)\n",
        "print(f'Maximum: {returned_value}') # This should print 25\n",
        "unittest.output_test(returned_value, 25)\n",
        "print('========2========')\n",
        "array = np.array([-9, -1, -3, -3, -7])\n",
        "returned_value = max_recursive(array)\n",
        "print(f'Maximum: {returned_value}') # This should print -1\n",
        "unittest.output_test(returned_value, -1)"
      ],
      "metadata": {
        "id": "GsEHYQPHfQbY",
        "colab": {
          "base_uri": "https://localhost:8080/"
        },
        "outputId": "50db1352-8b90-434d-ba74-c03d1ec1e841"
      },
      "execution_count": 14,
      "outputs": [
        {
          "output_type": "stream",
          "name": "stdout",
          "text": [
            "========1========\n",
            "Maximum: 25\n",
            "Accepted\n",
            "========2========\n",
            "Maximum: -1\n",
            "Accepted\n"
          ]
        }
      ]
    },
    {
      "cell_type": "markdown",
      "source": [
        "#Hard"
      ],
      "metadata": {
        "id": "FJZjAYFwhhJE"
      }
    },
    {
      "cell_type": "code",
      "source": [
        "#1\n",
        "def print_pattern(n, current=1):\n",
        "    if current > n:\n",
        "        return None\n",
        "    for i in range(1, current + 1):\n",
        "        print(i, end=\"\")\n",
        "    print()\n",
        "    print_pattern(n, current + 1)\n",
        "print('========1========')\n",
        "n = 5\n",
        "print_pattern(n)\n",
        "print('========1========')\n",
        "n = 7\n",
        "print_pattern(n)"
      ],
      "metadata": {
        "colab": {
          "base_uri": "https://localhost:8080/"
        },
        "id": "4Xdjz5pUgr0K",
        "outputId": "7ad65edb-94fc-4d91-c126-45f245b20a9f"
      },
      "execution_count": 15,
      "outputs": [
        {
          "output_type": "stream",
          "name": "stdout",
          "text": [
            "========1========\n",
            "1\n",
            "12\n",
            "123\n",
            "1234\n",
            "12345\n",
            "========1========\n",
            "1\n",
            "12\n",
            "123\n",
            "1234\n",
            "12345\n",
            "123456\n",
            "1234567\n"
          ]
        }
      ]
    },
    {
      "cell_type": "code",
      "source": [
        "#2\n",
        "def print_pattern_2(n,n2=1,s=1,row=1,p=1,p2=1):\n",
        "  if n==0:\n",
        "    return \"\"\n",
        "  if p==1:\n",
        "    if n2<=n:\n",
        "      print(s, end=\"  \")\n",
        "      print_pattern_2(n,n2+1,s+1)\n",
        "    else:\n",
        "      print()\n",
        "      print_pattern_2(n-1,1,row+2,row+2,2,2)\n",
        "  if p==2:\n",
        "    if n2<=n:\n",
        "      print(s, end=\"  \")\n",
        "      print_pattern_2(n,n2+1,s+2,row,p,p2)\n",
        "    else:\n",
        "      print()\n",
        "      print_pattern_2(n-1,1,row+2,row+2,3,2*2)\n",
        "  if p>2:\n",
        "    if n2<=n:\n",
        "      print(s, end=\"  \")\n",
        "      print_pattern_2(n,n2+1,s+p2,row,p,p2)\n",
        "    else:\n",
        "      print()\n",
        "      p=p+1\n",
        "      p2=p2*2\n",
        "      print_pattern_2(n-1,1,row+2,row+2,p,p2)\n",
        "print('========1========')\n",
        "n = 5\n",
        "print_pattern_2(n)\n",
        "print('========2========')\n",
        "n = 7\n",
        "print_pattern_2(n)"
      ],
      "metadata": {
        "colab": {
          "base_uri": "https://localhost:8080/"
        },
        "id": "5RFX1ubogmCj",
        "outputId": "f08bf5ee-eeba-4844-819b-d63c1ebe4bc7"
      },
      "execution_count": 16,
      "outputs": [
        {
          "output_type": "stream",
          "name": "stdout",
          "text": [
            "========1========\n",
            "1  2  3  4  5  \n",
            "3  5  7  9  \n",
            "5  9  13  \n",
            "7  15  \n",
            "9  \n",
            "========2========\n",
            "1  2  3  4  5  6  7  \n",
            "3  5  7  9  11  13  \n",
            "5  9  13  17  21  \n",
            "7  15  23  31  \n",
            "9  25  41  \n",
            "11  43  \n",
            "13  \n"
          ]
        }
      ]
    },
    {
      "cell_type": "markdown",
      "source": [
        "#Very Hard"
      ],
      "metadata": {
        "id": "v-CxHGqZm9WB"
      }
    },
    {
      "cell_type": "code",
      "source": [
        "def flattenList(given_list, output_list):\n",
        "  i=0\n",
        "  while i< len(given_list):\n",
        "    if type(given_list[i]) == int:\n",
        "      output_list.append(given_list[i])\n",
        "    else:\n",
        "      flattenList(given_list[i],output_list)\n",
        "    i+=1\n",
        "  return output_list\n",
        "\n",
        "\n",
        "given_list = [1, [2, [3, [4], 5], 6], 7, 8, [9, [[10, 11], 12], 13], 14, [15, [16, [17]]]]\n",
        "output_list = flattenList(given_list, []) # Initial empty list is sent for update\n",
        "print(output_list)\n",
        "#output_list = [1, 2, 3, 4, 5, 6, 7, 8, 9, 10, 11, 12, 13, 14, 15, 16, 17]"
      ],
      "metadata": {
        "id": "RKQnhkyOjwQ2",
        "colab": {
          "base_uri": "https://localhost:8080/"
        },
        "outputId": "e7acfdb8-c931-4192-f2a6-40177d54aeb8"
      },
      "execution_count": 17,
      "outputs": [
        {
          "output_type": "stream",
          "name": "stdout",
          "text": [
            "[1, 2, 3, 4, 5, 6, 7, 8, 9, 10, 11, 12, 13, 14, 15, 16, 17]\n"
          ]
        }
      ]
    }
  ]
}