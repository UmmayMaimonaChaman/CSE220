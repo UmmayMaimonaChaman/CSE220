{
  "nbformat": 4,
  "nbformat_minor": 0,
  "metadata": {
    "colab": {
      "provenance": []
    },
    "kernelspec": {
      "name": "python3",
      "display_name": "Python 3"
    },
    "language_info": {
      "name": "python"
    }
  },
  "cells": [
    {
      "cell_type": "markdown",
      "source": [
        "# *** -----------------------------------------LINEAR ARRAY------------------------------------- ***"
      ],
      "metadata": {
        "id": "Xjrply6DIAW0"
      }
    },
    {
      "cell_type": "markdown",
      "source": [
        "# **PRACTICE rough**"
      ],
      "metadata": {
        "id": "Z0kssjKfHnw1"
      }
    },
    {
      "cell_type": "code",
      "source": [
        "#Create array\n",
        "#1\n",
        "import numpy as np\n",
        "a = np.array([10, 20, 30, 40])\n",
        "print(a)\n",
        "print(type(a))\n",
        "#2\n",
        "b = np.zeros(5)\n",
        "print(b)\n",
        "print(type(b))\n",
        "#3\n",
        "c=[0]*5\n",
        "arr=np.array(c)                         #list of len=5 with 0\n",
        "print(arr)\n",
        "print(type(arr))\n",
        "#4\n",
        "b = np.zeros(5, dtype=int)\n",
        "print(b)\n",
        "print(type(b))"
      ],
      "metadata": {
        "colab": {
          "base_uri": "https://localhost:8080/"
        },
        "id": "BQyRc8q4NqUS",
        "outputId": "9a00e5a6-af17-4006-8c56-6f37c1637c08"
      },
      "execution_count": null,
      "outputs": [
        {
          "output_type": "stream",
          "name": "stdout",
          "text": [
            "[10 20 30 40]\n",
            "<class 'numpy.ndarray'>\n",
            "[0. 0. 0. 0. 0.]\n",
            "<class 'numpy.ndarray'>\n",
            "[0 0 0 0 0]\n",
            "<class 'numpy.ndarray'>\n",
            "[0 0 0 0 0]\n",
            "<class 'numpy.ndarray'>\n"
          ]
        }
      ]
    },
    {
      "cell_type": "code",
      "source": [
        "#Add value without append\n",
        "#                                              process1\n",
        "import numpy as np\n",
        "a = np.array([10, 20, 30, 40])\n",
        "b = np.zeros(5,dtype=int)\n",
        "for i in range(len(a)):\n",
        "    b[i] = a[i]\n",
        "b[len(a)] = 50  #because a er len b theke 1 kom\n",
        "a=b\n",
        "print(a)\n",
        "#                                              process2\n",
        "import numpy as np\n",
        "a = np.array([10, 20, 30, 40])\n",
        "b = np.zeros(len(a) + 1, dtype=int)\n",
        "for i in range(len(a)):\n",
        "    b[i] = a[i]\n",
        "b[len(b)-1] = 50         #last index\n",
        "a = b\n",
        "print(a)"
      ],
      "metadata": {
        "colab": {
          "base_uri": "https://localhost:8080/"
        },
        "id": "chdjr-MfHvFo",
        "outputId": "6cc777ff-535a-4a7e-a234-775f0b2b60d0"
      },
      "execution_count": null,
      "outputs": [
        {
          "output_type": "stream",
          "name": "stdout",
          "text": [
            "[10 20 30 40 50]\n",
            "[10 20 30 40 50]\n"
          ]
        }
      ]
    },
    {
      "cell_type": "code",
      "source": [
        "#Iteration\n",
        "import numpy as np\n",
        "arr1 = np.array([1, 2, 3, 4])\n",
        "for i in arr1:             #2      for i in range(0, len(arr1)):\n",
        "  print(i)                 #         print(arr1[i])\n",
        "print(\"................................................\")\n",
        "\n",
        "#reverse print\n",
        "for i in range(len(arr1)-1,-1,-1):\n",
        "  print(arr1[i])\n",
        "print(\"................................................\")\n",
        "\n",
        "#while loop for reverse\n",
        "i=0\n",
        "while i<=len(arr1)-1:\n",
        "  print(arr1[i])\n",
        "  i=i+1\n",
        "print(\"................................................\")\n",
        "\n",
        "#while loop for reverse\n",
        "i=len(arr1)-1\n",
        "while i>=0:\n",
        "  print(arr1[i])\n",
        "  i=i-1\n",
        "print(\"................................................\")\n",
        "\n"
      ],
      "metadata": {
        "colab": {
          "base_uri": "https://localhost:8080/"
        },
        "id": "76ZlHtl9Hu_x",
        "outputId": "6d651711-130f-426d-e7c4-13bc10f83a68"
      },
      "execution_count": null,
      "outputs": [
        {
          "output_type": "stream",
          "name": "stdout",
          "text": [
            "1\n",
            "2\n",
            "3\n",
            "4\n",
            "................................................\n",
            "4\n",
            "3\n",
            "2\n",
            "1\n",
            "................................................\n",
            "1\n",
            "2\n",
            "3\n",
            "4\n",
            "................................................\n",
            "4\n",
            "3\n",
            "2\n",
            "1\n",
            "................................................\n"
          ]
        }
      ]
    },
    {
      "cell_type": "code",
      "source": [
        "#Copy(pass by reference)\n",
        "arr1= np.array([1,2,3,4])\n",
        "arr2= arr1\n",
        "print(id(arr1)) #id() function is used to find the memory location\n",
        "print(id(arr2))\n",
        "print(\"................................................\")\n",
        "#Copy(pass by value)\n",
        "def copyArray(arr):\n",
        "  arr2= np.array([0]* len(arr))\n",
        "  for i in range(len(arr)):\n",
        "    arr2[i]= arr[i]\n",
        "  return arr2\n",
        "arr1= np.array([1,2,3,4])\n",
        "arr2= copyArray(arr1)\n",
        "# arr2= arr1.copy()\n",
        "print(id(arr1))\n",
        "print(id(arr2))"
      ],
      "metadata": {
        "colab": {
          "base_uri": "https://localhost:8080/"
        },
        "id": "HWGaDK04Hu9D",
        "outputId": "a6776f75-2f1a-4dd4-97d7-e7237458b5d5"
      },
      "execution_count": null,
      "outputs": [
        {
          "output_type": "stream",
          "name": "stdout",
          "text": [
            "135696074412784\n",
            "135696074412784\n",
            "................................................\n",
            "135696074415664\n",
            "135696074416240\n"
          ]
        }
      ]
    },
    {
      "cell_type": "code",
      "source": [
        "#Resize\n",
        "import numpy as np\n",
        "def resizeArray(arr, new_size):\n",
        "  arr2= np.array([0]* new_size)             #it can be None also\n",
        "  for i in range(len(arr)):\n",
        "    arr2[i]= arr[i]\n",
        "  return arr2\n",
        "arr1= np.array([1,2,3,4])\n",
        "print(resizeArray(arr1, 6))"
      ],
      "metadata": {
        "colab": {
          "base_uri": "https://localhost:8080/"
        },
        "id": "FnJyQzCTHu6W",
        "outputId": "8b60b008-4e5d-4455-801c-ef9795c00a1a"
      },
      "execution_count": null,
      "outputs": [
        {
          "output_type": "stream",
          "name": "stdout",
          "text": [
            "[1 2 3 4 0 0]\n"
          ]
        }
      ]
    },
    {
      "cell_type": "code",
      "source": [
        "#                                                                            Reverse\n",
        "\n",
        "#                                                     Out of place( copy er moto new arr create kore)\n",
        "#1\n",
        "def reverse_out_of_place(arr):\n",
        "  arr2= np.zeros(len(arr), dtype=int)\n",
        "  i= 0\n",
        "  while(i<=len(arr)-1):\n",
        "    arr2[i]= arr[len(arr)-1-i]\n",
        "    i+=1\n",
        "  return arr2\n",
        "arr= np.array([1,2,3,4,5])\n",
        "print(reverse_out_of_place(arr))\n",
        "\n",
        "#2\n",
        "def reverse_out_of_place(arr):\n",
        "  revarr= np.zeros(len(arr), dtype=int)\n",
        "  i= 0\n",
        "  j= len(arr)-1\n",
        "  while(i<len(arr)):\n",
        "    revarr[i] = arr[j]\n",
        "    i+=1\n",
        "    j-=1\n",
        "  return revarr\n",
        "\n",
        "#                                            Inplace( new create na kore old array tei sob reverse kora swap kore)\n",
        "\n",
        "#for(1)\n",
        "def reverse_in_place(arr):\n",
        "  x= 0\n",
        "  j= len(arr)-1\n",
        "  for i in range(len(arr)//2):\n",
        "    temp= arr[i]\n",
        "    arr[i]=arr[j]           #SWAPING\n",
        "    arr[j]=temp             #SWAPING\n",
        "    j-=1\n",
        "  return arr\n",
        "arr= np.array([1,2,3,4,5])\n",
        "print(reverse_in_place(arr))\n",
        "\n",
        "#2\n",
        "def reverse_in_place(arr):\n",
        "  x, j = 0, len(arr)-1\n",
        "  for i in range(len(arr)//2):\n",
        "    arr[i], arr[j]= arr[j], arr[i]\n",
        "    j-=1          # x+=0\n",
        "  return arr\n",
        "\n",
        "#while\n",
        "def reverse_in_place(arr):\n",
        "  i= 0\n",
        "  j= len(arr)-1\n",
        "  while i<j:\n",
        "    temp= arr[i]\n",
        "    arr[i]=arr[j]\n",
        "    arr[j]=temp\n",
        "    i+=1\n",
        "    j-=1\n",
        "  return arr"
      ],
      "metadata": {
        "colab": {
          "base_uri": "https://localhost:8080/"
        },
        "id": "F3Mjqhzhei3d",
        "outputId": "e289abd6-2dc4-4b21-b338-e7fbd94e668f"
      },
      "execution_count": null,
      "outputs": [
        {
          "output_type": "stream",
          "name": "stdout",
          "text": [
            "[5 4 3 2 1]\n",
            "[5 4 3 2 1]\n"
          ]
        }
      ]
    },
    {
      "cell_type": "code",
      "source": [
        "#                                                                        SHIFTING LEFT\n",
        "#                                                      *FOR 1 SLOT\n",
        "#1\n",
        "def shiftLeft(arr):\n",
        "  for i in range(1,len(arr)):\n",
        "    arr[i-1]= arr[i]\n",
        "  arr[len(arr)-1]= 0           #None\n",
        "  return arr\n",
        "arr= np.array([1,2,3,4])\n",
        "print(shiftLeft(arr))\n",
        "\n",
        "#2\n",
        "def shiftLeft(arr):\n",
        "  for i in range(len(arr)-1):\n",
        "    arr[i]= arr[i+1]\n",
        "  arr[len(arr)-1]= 0         #None\n",
        "  return arr\n",
        "\n",
        "'''                                                      *FOR 1 OR MORE SLOT(K er jaigai joto ghor shift bolbe toto)\n",
        "def shiftLeft(arr):\n",
        "  for i in range(len(arr)-k):\n",
        "    arr[i]= arr[i+k]\n",
        "    arr[i+k]= 0           #None\n",
        "  return arr                                   '''"
      ],
      "metadata": {
        "colab": {
          "base_uri": "https://localhost:8080/"
        },
        "id": "ElpGfQ9ggjSb",
        "outputId": "55234177-890e-4be6-bd0f-a9d62483ff6c"
      },
      "execution_count": null,
      "outputs": [
        {
          "output_type": "stream",
          "name": "stdout",
          "text": [
            "[2 3 4 0]\n"
          ]
        }
      ]
    },
    {
      "cell_type": "code",
      "source": [
        "#                                                                         SHIFTING RIGHT\n",
        "#                                                  for 1 slot\n",
        "def shiftRight(arr):\n",
        "  for i in range(len(arr)-1, 0, -1):\n",
        "    arr[i]= arr[i-1]\n",
        "    arr[i-1]=0\n",
        "  #arr[0]=0\n",
        "  return arr\n",
        "\n",
        "#                                                  for 1 or more slot (first and last line bade sob 1 er jaigai joto ghor toto)\n",
        "def shiftRight(arr):\n",
        "  j=len(arr)-1\n",
        "  for i in range(len(arr)-1):\n",
        "    arr[j]= arr[j-1]\n",
        "    arr[j-1]=0\n",
        "    j-=1\n",
        "  return arr\n",
        "arr= np.array([1,2,3,4])\n",
        "print(shiftRight(arr))"
      ],
      "metadata": {
        "colab": {
          "base_uri": "https://localhost:8080/"
        },
        "id": "7B3_RsGWjy7g",
        "outputId": "0ea3184e-721b-4de1-cd81-9549c2dfa1b7"
      },
      "execution_count": null,
      "outputs": [
        {
          "output_type": "stream",
          "name": "stdout",
          "text": [
            "[0 1 2 3]\n"
          ]
        }
      ]
    },
    {
      "cell_type": "code",
      "source": [
        "#                                                                         ROTATE LEFT\n",
        "# only for 1 ghor\n",
        "def rotateLeft(arr):\n",
        "  temp= arr[0]\n",
        "  for i in range(1, len(arr), 1):\n",
        "    arr[i-1]= arr[i]\n",
        "  arr[len(arr)-1]= temp\n",
        "  return arr\n",
        "arr= np.array([1,2,3,4])\n",
        "print(rotateLeft(arr))"
      ],
      "metadata": {
        "colab": {
          "base_uri": "https://localhost:8080/"
        },
        "id": "ydIX5ya9qjgW",
        "outputId": "35bbd0d2-433b-4cb2-e111-2d2bdd018694"
      },
      "execution_count": null,
      "outputs": [
        {
          "output_type": "stream",
          "name": "stdout",
          "text": [
            "[2 3 4 1]\n"
          ]
        }
      ]
    },
    {
      "cell_type": "code",
      "source": [
        "#                                                                         ROTATE RIGHT\n",
        "#only for 1 ghor\n",
        "def rotateRight(arr):\n",
        "  temp= arr[len(arr)-1]\n",
        "  for i in range(len(arr)-1, 0, -1):\n",
        "    arr[i]= arr[i-1]\n",
        "  arr[0]= temp\n",
        "  return arr\n",
        "arr= np.array([1,2,3,4])\n",
        "print(rotateRight(arr))\n",
        "\n",
        "# 1+ ghor hole  (ex=2  ; 2 er jaigai jotoghor toto change)\n",
        "import numpy as np\n",
        "def rotateRight(arr):\n",
        "    temp = np.zeros(2)                                           # for storing 50, 60\n",
        "    for i in range(len(arr)-2, len(arr)):\n",
        "        temp[i-(len(arr)-2)] = arr[i]\n",
        "    b = len(arr)-1                                           # starting index for right shift\n",
        "    for j in range(len(arr)-3, -1, -1):\n",
        "        arr[b] = arr[j]\n",
        "        b -= 1\n",
        "    for k in range(len(temp)):\n",
        "        arr[k] = temp[k]\n",
        "    return arr\n",
        "\n",
        "arr = np.array([10, 20, 30, 40, 50, 60])\n",
        "print(rotateRight(arr))\n",
        "\n",
        "\n"
      ],
      "metadata": {
        "colab": {
          "base_uri": "https://localhost:8080/"
        },
        "id": "OrhjAFa4qjZy",
        "outputId": "7f979aa3-d745-42d4-eb0e-b9fbde4070c2"
      },
      "execution_count": null,
      "outputs": [
        {
          "output_type": "stream",
          "name": "stdout",
          "text": [
            "[4 1 2 3]\n"
          ]
        }
      ]
    },
    {
      "cell_type": "code",
      "source": [
        "#                                                                   Inserting at the end\n",
        "def insert_at_the_end(arr, size, elem):\n",
        "  if size >= len(arr):\n",
        "    arr= resizeArray(arr, len(arr)+5)\n",
        "  arr[size]= elem\n",
        "  return arr\n",
        "arr= np.zeros(4, dtype=int)\n",
        "arr[0], arr[1], arr[2] = 4, 6, 5\n",
        "print(arr)\n",
        "print(insert_at_the_end(arr, 3, 15))\n",
        "\n",
        "##                                                                     Inserting anywhere\n",
        "def insert_anywhere(arr, size, index, elem):\n",
        "  if index<0 or index>size:\n",
        "    return \"Insertion Not Possible\"\n",
        "  else:\n",
        "    for i in range(size, index, -1): #Right Shift\n",
        "      arr[i]= arr[i-1]\n",
        "    arr[index]= elem\n",
        "    return arr\n",
        "\n",
        "arr= np.zeros(4, dtype=int)\n",
        "arr[0], arr[1], arr[2] = 4, 6, 5\n",
        "print(arr)\n",
        "print(insert_anywhere(arr, 3, 1, 15))\n"
      ],
      "metadata": {
        "colab": {
          "base_uri": "https://localhost:8080/"
        },
        "id": "IBX3fUiC3KMp",
        "outputId": "8e772a05-302c-4848-e015-8fe61bac65fb"
      },
      "execution_count": null,
      "outputs": [
        {
          "output_type": "stream",
          "name": "stdout",
          "text": [
            "[4 6 5 0]\n",
            "[ 4  6  5 15]\n",
            "[4 6 5 0]\n",
            "[ 4 15  6  5]\n"
          ]
        }
      ]
    },
    {
      "cell_type": "code",
      "source": [
        "#Deleting any element\n",
        "def delete_any_element (arr, size, index):\n",
        "  if size == 0 or (index<0 and index>=size):\n",
        "    return \"Deletion Not Possible\"\n",
        "  for i in range(index, size, 1):\n",
        "    arr[i]=arr[i+1]\n",
        "    arr[size-1]=0\n",
        "  return arr\n",
        "arr= np.zeros(5, dtype=int)\n",
        "arr[0], arr[1], arr[2], arr[3] = 4, 6, 5, 2\n",
        "print(arr)\n",
        "print(delete_any_element(arr, 4, 0)) #array, size, index"
      ],
      "metadata": {
        "colab": {
          "base_uri": "https://localhost:8080/"
        },
        "id": "rWdnUAzi3KKX",
        "outputId": "7f92d4e1-5969-4044-8914-9862ba87ab33"
      },
      "execution_count": null,
      "outputs": [
        {
          "output_type": "stream",
          "name": "stdout",
          "text": [
            "[4 6 5 2 0]\n",
            "[6 5 0 0 0]\n"
          ]
        }
      ]
    },
    {
      "cell_type": "markdown",
      "source": [
        "# **Practice sheet**"
      ],
      "metadata": {
        "id": "rEVlmRfJHwM1"
      }
    },
    {
      "cell_type": "code",
      "source": [],
      "metadata": {
        "id": "Uon6Vzy_H6M9"
      },
      "execution_count": null,
      "outputs": []
    },
    {
      "cell_type": "code",
      "source": [],
      "metadata": {
        "id": "u36NRU2VH6Jk"
      },
      "execution_count": null,
      "outputs": []
    },
    {
      "cell_type": "code",
      "source": [],
      "metadata": {
        "id": "aqIJenmBH6Hf"
      },
      "execution_count": null,
      "outputs": []
    },
    {
      "cell_type": "code",
      "source": [],
      "metadata": {
        "id": "FSxjwoJdH6FG"
      },
      "execution_count": null,
      "outputs": []
    }
  ]
}